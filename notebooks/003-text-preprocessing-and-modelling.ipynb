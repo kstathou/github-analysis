{
 "cells": [
  {
   "cell_type": "code",
   "execution_count": 2,
   "metadata": {},
   "outputs": [],
   "source": [
    "import gensim\n",
    "import pandas as pd\n",
    "import pickle\n",
    "import glob\n",
    "import numpy as np\n",
    "import sys\n",
    "sys.path.append('../src/')\n",
    "from text_preprocessing import *\n",
    "from utils import *"
   ]
  },
  {
   "cell_type": "code",
   "execution_count": 2,
   "metadata": {},
   "outputs": [
    {
     "name": "stderr",
     "output_type": "stream",
     "text": [
      "/Users/kstathou/anaconda/envs/nesta/lib/python3.5/site-packages/IPython/core/interactiveshell.py:2821: DtypeWarning: Columns (3) have mixed types. Specify dtype option on import or set low_memory=False.\n",
      "  if self.run_code(code, result):\n",
      "/Users/kstathou/anaconda/envs/nesta/lib/python3.5/site-packages/IPython/core/interactiveshell.py:2821: DtypeWarning: Columns (13) have mixed types. Specify dtype option on import or set low_memory=False.\n",
      "  if self.run_code(code, result):\n",
      "/Users/kstathou/anaconda/envs/nesta/lib/python3.5/site-packages/IPython/core/interactiveshell.py:2821: DtypeWarning: Columns (13,14) have mixed types. Specify dtype option on import or set low_memory=False.\n",
      "  if self.run_code(code, result):\n"
     ]
    }
   ],
   "source": [
    "github_data = pd.concat([pd.read_csv(filename) for filename in glob.glob('../data/raw/github_data/*')])"
   ]
  },
  {
   "cell_type": "code",
   "execution_count": 3,
   "metadata": {},
   "outputs": [
    {
     "data": {
      "text/plain": [
       "(19159174, 17)"
      ]
     },
     "execution_count": 3,
     "metadata": {},
     "output_type": "execute_result"
    }
   ],
   "source": [
    "github_data.shape"
   ]
  },
  {
   "cell_type": "markdown",
   "metadata": {},
   "source": [
    "## Text preprocessing"
   ]
  },
  {
   "cell_type": "code",
   "execution_count": 4,
   "metadata": {},
   "outputs": [],
   "source": [
    "github_data = github_data[github_data['project_description'].isnull()==False]\n",
    "github_data.reset_index(inplace=True, drop=True)"
   ]
  },
  {
   "cell_type": "code",
   "execution_count": 5,
   "metadata": {},
   "outputs": [],
   "source": [
    "nlproc = TextPreprocessing()"
   ]
  },
  {
   "cell_type": "code",
   "execution_count": 6,
   "metadata": {},
   "outputs": [
    {
     "name": "stdout",
     "output_type": "stream",
     "text": [
      "CPU times: user 24min 26s, sys: 26.2 s, total: 24min 52s\n",
      "Wall time: 25min 12s\n"
     ]
    }
   ],
   "source": [
    "%%time\n",
    "documents = [flatten_lists(nlproc.tokenize_document(doc)) for doc in list(github_data['project_description'])]"
   ]
  },
  {
   "cell_type": "code",
   "execution_count": 10,
   "metadata": {},
   "outputs": [
    {
     "name": "stdout",
     "output_type": "stream",
     "text": [
      "CPU times: user 8min 46s, sys: 1min 14s, total: 10min 1s\n",
      "Wall time: 10min 26s\n"
     ]
    }
   ],
   "source": [
    "%%time\n",
    "# Find bigrams\n",
    "docs = nlproc.bigrams(documents)\n",
    "project_ids = list(github_data['project_id'])"
   ]
  },
  {
   "cell_type": "code",
   "execution_count": 11,
   "metadata": {},
   "outputs": [],
   "source": [
    "# Save docs \n",
    "with open('../data/interim/docs_gh.pickle', 'wb') as h:\n",
    "    pickle.dump(docs, h)\n",
    "    \n",
    "# Save row ids\n",
    "with open('../data/interim/project_ids_gh.pickle', 'wb') as h:\n",
    "    pickle.dump(project_ids, h)"
   ]
  },
  {
   "cell_type": "markdown",
   "metadata": {},
   "source": [
    "## Training word2vec and doc2vec"
   ]
  },
  {
   "cell_type": "code",
   "execution_count": 1,
   "metadata": {},
   "outputs": [],
   "source": [
    "w2v = gensim.models.Word2Vec(docs, size=350, window=10, min_count=2, iter=20)"
   ]
  },
  {
   "cell_type": "code",
   "execution_count": null,
   "metadata": {},
   "outputs": [],
   "source": [
    "w2v.save('../models/w2v_gh.word2vec')"
   ]
  },
  {
   "cell_type": "code",
   "execution_count": 4,
   "metadata": {},
   "outputs": [
    {
     "data": {
      "text/plain": [
       "[('deep_learning', 0.66623854637146),\n",
       " ('classification', 0.6167000532150269),\n",
       " ('supervised_learning', 0.596238374710083),\n",
       " ('data_science', 0.5827585458755493),\n",
       " ('computer_vision', 0.5490185022354126),\n",
       " ('sklearn', 0.5454097390174866),\n",
       " ('neural_network', 0.5431226491928101),\n",
       " ('logistic_regression', 0.5427300930023193),\n",
       " ('mining', 0.5408807992935181),\n",
       " ('neural_networks', 0.5408588647842407)]"
      ]
     },
     "execution_count": 4,
     "metadata": {},
     "output_type": "execute_result"
    }
   ],
   "source": [
    "w2v.most_similar(['machine_learning'], topn=10)"
   ]
  },
  {
   "cell_type": "code",
   "execution_count": 5,
   "metadata": {},
   "outputs": [
    {
     "data": {
      "text/plain": [
       "[('internet_things', 0.6005114912986755),\n",
       " ('azure_iot', 0.5117706060409546),\n",
       " ('electric_imp', 0.4698876142501831),\n",
       " ('smart_home', 0.4650612473487854),\n",
       " ('watson_iot', 0.44937294721603394),\n",
       " ('internet_connected', 0.44580090045928955),\n",
       " ('sensor', 0.44355714321136475),\n",
       " ('tessel', 0.44221973419189453),\n",
       " ('home_automation', 0.44139182567596436),\n",
       " ('particle_photon', 0.4413098692893982)]"
      ]
     },
     "execution_count": 5,
     "metadata": {},
     "output_type": "execute_result"
    }
   ],
   "source": [
    "w2v.most_similar(['iot'], topn=10)"
   ]
  },
  {
   "cell_type": "code",
   "execution_count": null,
   "metadata": {},
   "outputs": [],
   "source": [
    "# create Tagged Documents (Gensim object) that will be used as input for the doc2vec\n",
    "tagged_tags = nlproc.tagged_documents(documents=docs, labels=project_ids)"
   ]
  },
  {
   "cell_type": "code",
   "execution_count": null,
   "metadata": {},
   "outputs": [],
   "source": [
    "%%time\n",
    "d2v = gensim.models.doc2vec.Doc2Vec(documents=tagged_tags, size=350, min_count=2, \n",
    "                                    window=30, iter=30, dbow_words=1, dm=0)"
   ]
  }
 ],
 "metadata": {
  "kernelspec": {
   "display_name": "Python [conda env:nesta]",
   "language": "python",
   "name": "conda-env-nesta-py"
  },
  "language_info": {
   "codemirror_mode": {
    "name": "ipython",
    "version": 3
   },
   "file_extension": ".py",
   "mimetype": "text/x-python",
   "name": "python",
   "nbconvert_exporter": "python",
   "pygments_lexer": "ipython3",
   "version": "3.5.2"
  }
 },
 "nbformat": 4,
 "nbformat_minor": 2
}
